{
    "metadata": {
        "kernelspec": {
            "name": "SQL",
            "display_name": "SQL",
            "language": "sql"
        },
        "language_info": {
            "name": "sql",
            "version": ""
        }
    },
    "nbformat_minor": 2,
    "nbformat": 4,
    "cells": [
        {
            "cell_type": "markdown",
            "source": [
                "<h1><center><b>Laboratorio N° 02 - Utilizando Operadores de Conjuntos de Datos</b></center></h1>"
            ],
            "metadata": {
                "azdata_cell_guid": "12f79de3-415b-4635-8f86-bd1a1dcacfbb"
            }
        },
        {
            "cell_type": "markdown",
            "source": [
                "<h2><b>Objetivo:</b></h2>\r\n",
                "* Aplicar los conocimientos asimilados sobre operadores de conjuntos en SQL Server"
            ],
            "metadata": {
                "azdata_cell_guid": "8ebb83ca-bda1-4aee-92fa-f20177f07482"
            }
        },
        {
            "cell_type": "markdown",
            "source": [
                "<h2><b>Ejercicio 1: Operador UNION</b></h2>"
            ],
            "metadata": {
                "azdata_cell_guid": "c2f89b14-4805-4760-b228-3e58355f7f62"
            }
        },
        {
            "cell_type": "markdown",
            "source": [
                "1.1. Conectar con la BD TSQL"
            ],
            "metadata": {
                "azdata_cell_guid": "b3d3e08d-6c53-44aa-a02c-e3ee5be45d69"
            }
        },
        {
            "cell_type": "code",
            "source": [
                "USE TSQL;\r\n",
                "GO"
            ],
            "metadata": {
                "azdata_cell_guid": "0b8bc61b-ea52-4e25-b09d-d3513da1faff",
                "language": "sql"
            },
            "outputs": [
                {
                    "output_type": "display_data",
                    "data": {
                        "text/html": "Commands completed successfully."
                    },
                    "metadata": {}
                },
                {
                    "output_type": "display_data",
                    "data": {
                        "text/html": "Total execution time: 00:00:00"
                    },
                    "metadata": {}
                }
            ],
            "execution_count": 1
        },
        {
            "cell_type": "markdown",
            "source": [
                "1.2. Escribir una sentencia SELECT que retorne las columnas productid y productname desde la tabla Production.Products. Filtrar los resultados  para incluir solo los productos que tienen la columna categoryid valor 4."
            ],
            "metadata": {
                "azdata_cell_guid": "7331bd1f-8892-40cb-b4b3-05f1f4ee927f"
            }
        },
        {
            "cell_type": "code",
            "source": [
                "SELECT \r\n",
                "    ProductID, \r\n",
                "    ProductName\r\n",
                "FROM \r\n",
                "    Production.Products\r\n",
                "WHERE \r\n",
                "    CategoryID = 4;"
            ],
            "metadata": {
                "azdata_cell_guid": "6c2126b0-e54c-4da0-8fb3-0f7eb1299ec5",
                "language": "sql"
            },
            "outputs": [
                {
                    "output_type": "display_data",
                    "data": {
                        "text/html": "(10 rows affected)"
                    },
                    "metadata": {}
                },
                {
                    "output_type": "display_data",
                    "data": {
                        "text/html": "Total execution time: 00:00:00.010"
                    },
                    "metadata": {}
                },
                {
                    "output_type": "execute_result",
                    "metadata": {},
                    "execution_count": 2,
                    "data": {
                        "application/vnd.dataresource+json": {
                            "schema": {
                                "fields": [
                                    {
                                        "name": "ProductID"
                                    },
                                    {
                                        "name": "ProductName"
                                    }
                                ]
                            },
                            "data": [
                                {
                                    "0": "11",
                                    "1": "Product QMVUN"
                                },
                                {
                                    "0": "12",
                                    "1": "Product OSFNS"
                                },
                                {
                                    "0": "31",
                                    "1": "Product XWOXC"
                                },
                                {
                                    "0": "32",
                                    "1": "Product NUNAW"
                                },
                                {
                                    "0": "33",
                                    "1": "Product ASTMN"
                                },
                                {
                                    "0": "59",
                                    "1": "Product UKXRI"
                                },
                                {
                                    "0": "60",
                                    "1": "Product WHBYK"
                                },
                                {
                                    "0": "69",
                                    "1": "Product COAXA"
                                },
                                {
                                    "0": "71",
                                    "1": "Product MYMOI"
                                },
                                {
                                    "0": "72",
                                    "1": "Product GEEOO"
                                }
                            ]
                        },
                        "text/html": [
                            "<table>",
                            "<tr><th>ProductID</th><th>ProductName</th></tr>",
                            "<tr><td>11</td><td>Product QMVUN</td></tr>",
                            "<tr><td>12</td><td>Product OSFNS</td></tr>",
                            "<tr><td>31</td><td>Product XWOXC</td></tr>",
                            "<tr><td>32</td><td>Product NUNAW</td></tr>",
                            "<tr><td>33</td><td>Product ASTMN</td></tr>",
                            "<tr><td>59</td><td>Product UKXRI</td></tr>",
                            "<tr><td>60</td><td>Product WHBYK</td></tr>",
                            "<tr><td>69</td><td>Product COAXA</td></tr>",
                            "<tr><td>71</td><td>Product MYMOI</td></tr>",
                            "<tr><td>72</td><td>Product GEEOO</td></tr>",
                            "</table>"
                        ]
                    }
                }
            ],
            "execution_count": 2
        },
        {
            "cell_type": "markdown",
            "source": [
                "1.3. Escribir la sentencia SELECT para retornar las columnas productid y productname desde la tabla Production.Products. Filtrar los resultados para incluir solo los productos que tienen un monoto total de ventas mayor a $50,000. Para el monto total de ventas, se necesitara la consultar la tabla Sales.OrderDetails y agregar todos los valores (qty * unitprice) de detalle o linea de orden por cada producto."
            ],
            "metadata": {
                "azdata_cell_guid": "56bc9fe5-72df-4efc-896e-d47d12e95889"
            }
        },
        {
            "cell_type": "code",
            "source": [
                "SELECT \r\n",
                "    p.productid,\r\n",
                "    p.productname\r\n",
                "FROM \r\n",
                "    Production.Products p\r\n",
                "INNER JOIN (\r\n",
                "    SELECT \r\n",
                "        productid, \r\n",
                "        SUM(qty * unitprice) AS TotalVentas\r\n",
                "    FROM \r\n",
                "        Sales.OrderDetails\r\n",
                "    GROUP BY \r\n",
                "        productid\r\n",
                "    HAVING \r\n",
                "        SUM(qty * unitprice) > 50000\r\n",
                ") od ON p.productid = od.productid;"
            ],
            "metadata": {
                "azdata_cell_guid": "b0374156-c157-41ff-9658-c877ec15040a",
                "language": "sql"
            },
            "outputs": [
                {
                    "output_type": "display_data",
                    "data": {
                        "text/html": "(4 rows affected)"
                    },
                    "metadata": {}
                },
                {
                    "output_type": "display_data",
                    "data": {
                        "text/html": "Total execution time: 00:00:00.006"
                    },
                    "metadata": {}
                },
                {
                    "output_type": "execute_result",
                    "metadata": {},
                    "execution_count": 11,
                    "data": {
                        "application/vnd.dataresource+json": {
                            "schema": {
                                "fields": [
                                    {
                                        "name": "productid"
                                    },
                                    {
                                        "name": "productname"
                                    }
                                ]
                            },
                            "data": [
                                {
                                    "0": "29",
                                    "1": "Product VJXYN"
                                },
                                {
                                    "0": "38",
                                    "1": "Product QDOMO"
                                },
                                {
                                    "0": "59",
                                    "1": "Product UKXRI"
                                },
                                {
                                    "0": "60",
                                    "1": "Product WHBYK"
                                }
                            ]
                        },
                        "text/html": [
                            "<table>",
                            "<tr><th>productid</th><th>productname</th></tr>",
                            "<tr><td>29</td><td>Product VJXYN</td></tr>",
                            "<tr><td>38</td><td>Product QDOMO</td></tr>",
                            "<tr><td>59</td><td>Product UKXRI</td></tr>",
                            "<tr><td>60</td><td>Product WHBYK</td></tr>",
                            "</table>"
                        ]
                    }
                }
            ],
            "execution_count": 11
        },
        {
            "cell_type": "markdown",
            "source": [
                "1.4. Escribir una consulta SELECT para traer las columnas custid y contactname de la tabla Sales.Customers. Monstrar el top 10 de clientes por monto de ventas para el periodo January 2008 y mostrar el top 10 de clientes por monto de ventas para el periodo February 2008. (Ojo: escribir dos sentencias SELECT, enlazar Sales.Customers y Sales.OrderValues, y utilizar el apropiado operador de conjunto)."
            ],
            "metadata": {
                "azdata_cell_guid": "40645fe5-79cc-457d-9a2e-c3608f1fe0df"
            }
        },
        {
            "cell_type": "code",
            "source": [
                "SELECT TOP 10 c.custid, c.contactname\r\n",
                "FROM Sales.Customers c\r\n",
                "JOIN Sales.OrderValues ov ON c.custid = ov.custid\r\n",
                "WHERE ov.orderdate >= '2008-01-01' AND ov.orderdate < '2008-02-01'\r\n",
                "GROUP BY c.custid, c.contactname;"
            ],
            "metadata": {
                "azdata_cell_guid": "25fb2019-e2ba-4891-a524-b26f47f0c7fd",
                "language": "sql",
                "tags": []
            },
            "outputs": [
                {
                    "output_type": "display_data",
                    "data": {
                        "text/html": "(3 rows affected)"
                    },
                    "metadata": {}
                },
                {
                    "output_type": "display_data",
                    "data": {
                        "text/html": "Total execution time: 00:00:00.003"
                    },
                    "metadata": {}
                },
                {
                    "output_type": "execute_result",
                    "metadata": {},
                    "execution_count": 62,
                    "data": {
                        "application/vnd.dataresource+json": {
                            "schema": {
                                "fields": [
                                    {
                                        "name": "custid"
                                    },
                                    {
                                        "name": "contactname"
                                    }
                                ]
                            },
                            "data": [
                                {
                                    "0": "42",
                                    "1": "Steiner, Dominik"
                                },
                                {
                                    "0": "55",
                                    "1": "Egelund-Muller, Anja"
                                },
                                {
                                    "0": "88",
                                    "1": "Li, Yan"
                                }
                            ]
                        },
                        "text/html": [
                            "<table>",
                            "<tr><th>custid</th><th>contactname</th></tr>",
                            "<tr><td>42</td><td>Steiner, Dominik</td></tr>",
                            "<tr><td>55</td><td>Egelund-Muller, Anja</td></tr>",
                            "<tr><td>88</td><td>Li, Yan</td></tr>",
                            "</table>"
                        ]
                    }
                }
            ],
            "execution_count": 62
        },
        {
            "cell_type": "code",
            "source": [
                "SELECT TOP 10 c.custid, c.contactname\r\n",
                "FROM Sales.Customers c\r\n",
                "JOIN Sales.OrderValues ov ON c.custid = ov.custid\r\n",
                "WHERE ov.orderdate >= '2008-02-01' AND ov.orderdate < '2008-03-01'\r\n",
                "GROUP BY c.custid, c.contactname;"
            ],
            "metadata": {
                "language": "sql",
                "azdata_cell_guid": "a4c5b722-bb42-4c97-8cb1-37c737f64507"
            },
            "outputs": [
                {
                    "output_type": "display_data",
                    "data": {
                        "text/html": "(2 rows affected)"
                    },
                    "metadata": {}
                },
                {
                    "output_type": "display_data",
                    "data": {
                        "text/html": "Total execution time: 00:00:00.012"
                    },
                    "metadata": {}
                },
                {
                    "output_type": "execute_result",
                    "metadata": {},
                    "execution_count": 64,
                    "data": {
                        "application/vnd.dataresource+json": {
                            "schema": {
                                "fields": [
                                    {
                                        "name": "custid"
                                    },
                                    {
                                        "name": "contactname"
                                    }
                                ]
                            },
                            "data": [
                                {
                                    "0": "47",
                                    "1": "Lupu, Cornel"
                                },
                                {
                                    "0": "66",
                                    "1": "Voss, Florian"
                                }
                            ]
                        },
                        "text/html": [
                            "<table>",
                            "<tr><th>custid</th><th>contactname</th></tr>",
                            "<tr><td>47</td><td>Lupu, Cornel</td></tr>",
                            "<tr><td>66</td><td>Voss, Florian</td></tr>",
                            "</table>"
                        ]
                    }
                }
            ],
            "execution_count": 64
        },
        {
            "cell_type": "markdown",
            "source": [
                "<h2><b>Ejercicio 2: Operador EXCEPT y INTERSECT</b></h2>"
            ],
            "metadata": {
                "azdata_cell_guid": "2769b212-c6db-4807-8468-4683379b4959"
            }
        },
        {
            "cell_type": "markdown",
            "source": [
                "2.1. Escribir una sentencia SELECT para traer la columna custid de la tabla Sales.Orders table. Filtrar los resultados para incluir solo los clientes quierenes compraron mas de 20 diferentes productos (basada en la columna productid de la tabla Sales.OrderDetails)."
            ],
            "metadata": {
                "azdata_cell_guid": "d5d98c1c-aca8-4ef1-9c8f-154988fbbb9a"
            }
        },
        {
            "cell_type": "code",
            "source": [
                "SELECT o.custid\r\n",
                "FROM Sales.Orders o\r\n",
                "INNER JOIN Sales.OrderDetails od ON o.orderid = od.orderid\r\n",
                "GROUP BY o.custid\r\n",
                "HAVING COUNT(DISTINCT od.productid) > 20;"
            ],
            "metadata": {
                "azdata_cell_guid": "0f783164-79ea-492b-977c-623309f2dc9e",
                "language": "sql"
            },
            "outputs": [
                {
                    "output_type": "display_data",
                    "data": {
                        "text/html": "(33 rows affected)"
                    },
                    "metadata": {}
                },
                {
                    "output_type": "display_data",
                    "data": {
                        "text/html": "Total execution time: 00:00:00.021"
                    },
                    "metadata": {}
                },
                {
                    "output_type": "execute_result",
                    "metadata": {},
                    "execution_count": 65,
                    "data": {
                        "application/vnd.dataresource+json": {
                            "schema": {
                                "fields": [
                                    {
                                        "name": "custid"
                                    }
                                ]
                            },
                            "data": [
                                {
                                    "0": "4"
                                },
                                {
                                    "0": "5"
                                },
                                {
                                    "0": "7"
                                },
                                {
                                    "0": "9"
                                },
                                {
                                    "0": "10"
                                },
                                {
                                    "0": "20"
                                },
                                {
                                    "0": "24"
                                },
                                {
                                    "0": "25"
                                },
                                {
                                    "0": "30"
                                },
                                {
                                    "0": "34"
                                },
                                {
                                    "0": "35"
                                },
                                {
                                    "0": "37"
                                },
                                {
                                    "0": "39"
                                },
                                {
                                    "0": "41"
                                },
                                {
                                    "0": "44"
                                },
                                {
                                    "0": "46"
                                },
                                {
                                    "0": "47"
                                },
                                {
                                    "0": "51"
                                },
                                {
                                    "0": "56"
                                },
                                {
                                    "0": "62"
                                },
                                {
                                    "0": "63"
                                },
                                {
                                    "0": "65"
                                },
                                {
                                    "0": "67"
                                },
                                {
                                    "0": "68"
                                },
                                {
                                    "0": "71"
                                },
                                {
                                    "0": "72"
                                },
                                {
                                    "0": "76"
                                },
                                {
                                    "0": "80"
                                },
                                {
                                    "0": "83"
                                },
                                {
                                    "0": "84"
                                },
                                {
                                    "0": "86"
                                },
                                {
                                    "0": "87"
                                },
                                {
                                    "0": "89"
                                }
                            ]
                        },
                        "text/html": [
                            "<table>",
                            "<tr><th>custid</th></tr>",
                            "<tr><td>4</td></tr>",
                            "<tr><td>5</td></tr>",
                            "<tr><td>7</td></tr>",
                            "<tr><td>9</td></tr>",
                            "<tr><td>10</td></tr>",
                            "<tr><td>20</td></tr>",
                            "<tr><td>24</td></tr>",
                            "<tr><td>25</td></tr>",
                            "<tr><td>30</td></tr>",
                            "<tr><td>34</td></tr>",
                            "<tr><td>35</td></tr>",
                            "<tr><td>37</td></tr>",
                            "<tr><td>39</td></tr>",
                            "<tr><td>41</td></tr>",
                            "<tr><td>44</td></tr>",
                            "<tr><td>46</td></tr>",
                            "<tr><td>47</td></tr>",
                            "<tr><td>51</td></tr>",
                            "<tr><td>56</td></tr>",
                            "<tr><td>62</td></tr>",
                            "<tr><td>63</td></tr>",
                            "<tr><td>65</td></tr>",
                            "<tr><td>67</td></tr>",
                            "<tr><td>68</td></tr>",
                            "<tr><td>71</td></tr>",
                            "<tr><td>72</td></tr>",
                            "<tr><td>76</td></tr>",
                            "<tr><td>80</td></tr>",
                            "<tr><td>83</td></tr>",
                            "<tr><td>84</td></tr>",
                            "<tr><td>86</td></tr>",
                            "<tr><td>87</td></tr>",
                            "<tr><td>89</td></tr>",
                            "</table>"
                        ]
                    }
                }
            ],
            "execution_count": 65
        },
        {
            "cell_type": "markdown",
            "source": [
                "2.2. Escrbir una sentencia SELECT para traer la columna custid desd la tabla the Sales.Orders. Filtrar los resultados para incluir solo los clientes del pais USA y excluir todos los clientes del resultado previo (tarea 1). (Ojo: usar el operador EXCEPT la consulta anterior)."
            ],
            "metadata": {
                "azdata_cell_guid": "cb222708-ae6c-483a-990d-b29eae00aead"
            }
        },
        {
            "cell_type": "code",
            "source": [
                ""
            ],
            "metadata": {
                "azdata_cell_guid": "d742b968-d4ea-4886-890e-bf4b29ec0f42",
                "language": "sql"
            },
            "outputs": [],
            "execution_count": 7
        },
        {
            "cell_type": "markdown",
            "source": [
                "2.3. Escribir una sentencia SELECT para traer la columna custid de la tabla Sales.Orders. Filtrar solo los clientes quienes tienen un valor de total de ventas mayor a $10,000. Calcular el valor de ventas utilizando las columnas qty y unitprice de la tabla Sales.OrderDetails."
            ],
            "metadata": {
                "azdata_cell_guid": "d0889a7b-99a1-4bad-a744-46b5f8b45c7a"
            }
        },
        {
            "cell_type": "code",
            "source": [
                ""
            ],
            "metadata": {
                "azdata_cell_guid": "4cf4e795-03bd-434a-99ce-ce267302ee29",
                "language": "sql"
            },
            "outputs": [],
            "execution_count": 8
        },
        {
            "cell_type": "markdown",
            "source": [
                "<h2><b>Ejercicio 3: Utilizando el Operador APPLY</b></h2>"
            ],
            "metadata": {
                "azdata_cell_guid": "5d806dca-11be-4dde-8df8-aae7176311ad"
            }
        },
        {
            "cell_type": "markdown",
            "source": [
                "3.1. Escribir una sentencia SELECT para traer las columnas productid y productname de la tabla Production.Products. En adición, para cada producto, traer las ultimas dos filas de la tabla Sales.OrderDetails basado en el número orderid."
            ],
            "metadata": {
                "azdata_cell_guid": "7f59edc1-b172-4b0c-8f64-ec37117f3d31"
            }
        },
        {
            "cell_type": "code",
            "source": [
                ""
            ],
            "metadata": {
                "azdata_cell_guid": "83b0fe9a-30a3-4a69-99e0-74801f3c983f",
                "language": "sql"
            },
            "outputs": [],
            "execution_count": 9
        },
        {
            "cell_type": "markdown",
            "source": [
                "3.2. Utilizar el operador CROSS APPLY y una subconsulta correlacionada. Ordenar el resultado por la columna productid."
            ],
            "metadata": {
                "azdata_cell_guid": "ac333855-7abb-49b3-94f4-5553a5a0c6b1"
            }
        },
        {
            "cell_type": "code",
            "source": [
                ""
            ],
            "metadata": {
                "azdata_cell_guid": "014bdfbc-94d7-482a-9d53-2b3a076864e8",
                "language": "sql"
            },
            "outputs": [],
            "execution_count": 14
        },
        {
            "cell_type": "markdown",
            "source": [
                "3.3. Ejecutar la sentencia siguiente para crear la función fnGetTop3ProductsForCustomer."
            ],
            "metadata": {
                "azdata_cell_guid": "d42af140-533b-440a-ab49-bb36b2ef5e23"
            }
        },
        {
            "cell_type": "code",
            "source": [
                "DROP FUNCTION IF EXISTS dbo.fnGetTop3ProductsForCustomer; \r\n",
                "GO \r\n",
                "CREATE FUNCTION dbo.fnGetTop3ProductsForCustomer (@custid AS INT) \r\n",
                "RETURNS TABLE AS \r\n",
                "RETURN \r\n",
                "SELECT TOP(3) d.productid, p.productname, SUM(d.qty * d.unitprice) AS totalsalesamount \r\n",
                "FROM Sales.Orders AS o \r\n",
                "INNER JOIN Sales.OrderDetails AS d ON d.orderid = o.orderid \r\n",
                "INNER JOIN Production.Products AS p ON p.productid = d.productid \r\n",
                "WHERE custid = @custid \r\n",
                "GROUP BY d.productid, p.productname \r\n",
                "ORDER BY totalsalesamount DESC;"
            ],
            "metadata": {
                "azdata_cell_guid": "a34f2902-78f7-462d-a74f-8f90df529641",
                "language": "sql"
            },
            "outputs": [],
            "execution_count": 1
        },
        {
            "cell_type": "markdown",
            "source": [
                "3.4. Escribir una sentencia SELECT statement para traer las columnas custid y contactname de la tabla Sales.Customers. Utilizar el operador CROSS APPLY con la función dbo.fnGetTop3ProductsForCustomer para traer las columnas productid, productname y totalsalesamount por cada cliente."
            ],
            "metadata": {
                "azdata_cell_guid": "a8ea6f3f-bb43-4ecb-92c1-0c36d9a5d1fb"
            }
        },
        {
            "cell_type": "code",
            "source": [
                ""
            ],
            "metadata": {
                "azdata_cell_guid": "ff759fc5-fa9c-4e29-a69e-d6ef1eefdde1",
                "language": "sql"
            },
            "outputs": [],
            "execution_count": 19
        }
    ]
}